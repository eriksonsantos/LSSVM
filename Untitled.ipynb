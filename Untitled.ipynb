{
 "cells": [
  {
   "cell_type": "code",
   "execution_count": 9,
   "id": "92b9df1e",
   "metadata": {},
   "outputs": [],
   "source": [
    "rm(list=ls())\n",
    "library(\"kernlab\")\n",
    "\n",
    "#conda install -c conda-forge r-kernlab\n",
    "#conda install -c conda-forge libsvm\n",
    "\n",
    "library(caTools)\n",
    "#install.packages('caret')\n",
    "#install.packages('e1071')\n",
    "library(caret)\n",
    "library(e1071)\n"
   ]
  },
  {
   "cell_type": "code",
   "execution_count": 10,
   "id": "32bc32d8",
   "metadata": {},
   "outputs": [],
   "source": [
    "glass = read.csv('./glass.data', header = FALSE)"
   ]
  },
  {
   "cell_type": "code",
   "execution_count": 11,
   "id": "919d0a32",
   "metadata": {},
   "outputs": [],
   "source": [
    "X = as.matrix(glass[2:10])\n",
    "Y = as.matrix(glass[11])"
   ]
  },
  {
   "cell_type": "code",
   "execution_count": 12,
   "id": "b8ad6f17",
   "metadata": {},
   "outputs": [],
   "source": [
    "acuraciaTest = matrix(0, nrow= 10)\n",
    "acuraciaTrain = matrix(0, nrow= 10)"
   ]
  },
  {
   "cell_type": "code",
   "execution_count": 21,
   "id": "543fe763",
   "metadata": {},
   "outputs": [
    {
     "name": "stdout",
     "output_type": "stream",
     "text": [
      "Using automatic sigma estimation (sigest) for RBF or laplace kernel \n",
      "Using automatic sigma estimation (sigest) for RBF or laplace kernel \n",
      "Using automatic sigma estimation (sigest) for RBF or laplace kernel \n",
      "Using automatic sigma estimation (sigest) for RBF or laplace kernel \n",
      "Using automatic sigma estimation (sigest) for RBF or laplace kernel \n",
      "Using automatic sigma estimation (sigest) for RBF or laplace kernel \n",
      "Using automatic sigma estimation (sigest) for RBF or laplace kernel \n",
      "Using automatic sigma estimation (sigest) for RBF or laplace kernel \n",
      "Using automatic sigma estimation (sigest) for RBF or laplace kernel \n",
      "Using automatic sigma estimation (sigest) for RBF or laplace kernel \n"
     ]
    }
   ],
   "source": [
    "for(i in 1:10){\n",
    "#set.seed(47)\n",
    "split = sample.split(glass, SplitRatio = 0.8)\n",
    "\n",
    "training_set = subset(glass, split == TRUE)\n",
    "test_set = subset(glass, split == FALSE)\n",
    "X_train = training_set[2:10]\n",
    "Y_train = training_set[11]\n",
    "\n",
    "X_train = as.matrix(X_train)\n",
    "Y_train = as.matrix(Y_train)\n",
    "\n",
    "X_test = test_set[2:10]\n",
    "Y_test = test_set[11]\n",
    "\n",
    "X_test = as.matrix(X_test)\n",
    "X_test = as.matrix(X_test)\n",
    "\n",
    "test <- lssvm( X_train,Y_train,kernel=\"rbfdot\",C=100,\n",
    "      ,reduced = FALSE,type=\"classification\",tau=0.001)\n",
    "\n",
    "Y_aprox = predict(test,X_test)\n",
    "Y_aprox = matrix(Y_aprox)\n",
    "Y_test = matrix(Y_test)\n",
    "Y_aprox = as.integer(Y_aprox)\n",
    "Y_test = as.integer(unlist(Y_test))\n",
    "cmTest = as.matrix(table(Actual = Y_test, Predicted = Y_aprox)) # create the confusion matrix\n",
    "n = sum(cmTest)\n",
    "diag = diag(cmTest)\n",
    "acuraciaTest[i] = sum(diag) / n \n",
    "\n",
    "\n",
    "Y_aprox = predict(test,X_train)\n",
    "cmTrain = as.matrix(table(Actual = Y_train, Predicted = Y_aprox)) # create the confusion matrix\n",
    "n = sum(cmTrain)\n",
    "diag = diag(cmTrain)\n",
    "acuraciaTrain[i] = sum(diag) / n \n",
    "}\n",
    "\n"
   ]
  },
  {
   "cell_type": "code",
   "execution_count": 22,
   "id": "99d69f7b",
   "metadata": {},
   "outputs": [
    {
     "data": {
      "text/html": [
       "0.710834698484175"
      ],
      "text/latex": [
       "0.710834698484175"
      ],
      "text/markdown": [
       "0.710834698484175"
      ],
      "text/plain": [
       "[1] 0.7108347"
      ]
     },
     "metadata": {},
     "output_type": "display_data"
    },
    {
     "data": {
      "text/html": [
       "0.0148361398888709"
      ],
      "text/latex": [
       "0.0148361398888709"
      ],
      "text/markdown": [
       "0.0148361398888709"
      ],
      "text/plain": [
       "[1] 0.01483614"
      ]
     },
     "metadata": {},
     "output_type": "display_data"
    }
   ],
   "source": [
    "mean(acuraciaTrain)\n",
    "sd(acuraciaTrain)"
   ]
  },
  {
   "cell_type": "code",
   "execution_count": 23,
   "id": "f954fa4a",
   "metadata": {},
   "outputs": [
    {
     "data": {
      "text/html": [
       "0.578768546146195"
      ],
      "text/latex": [
       "0.578768546146195"
      ],
      "text/markdown": [
       "0.578768546146195"
      ],
      "text/plain": [
       "[1] 0.5787685"
      ]
     },
     "metadata": {},
     "output_type": "display_data"
    },
    {
     "data": {
      "text/html": [
       "0.048739263308253"
      ],
      "text/latex": [
       "0.048739263308253"
      ],
      "text/markdown": [
       "0.048739263308253"
      ],
      "text/plain": [
       "[1] 0.04873926"
      ]
     },
     "metadata": {},
     "output_type": "display_data"
    }
   ],
   "source": [
    "mean(acuraciaTest)\n",
    "sd(acuraciaTest)\n"
   ]
  },
  {
   "cell_type": "code",
   "execution_count": 24,
   "id": "8734a4e4",
   "metadata": {},
   "outputs": [
    {
     "data": {
      "text/plain": [
       "      Predicted\n",
       "Actual  1  2  3  5  6  7\n",
       "     1 46  5  0  0  0  0\n",
       "     2  3 51  1  0  0  0\n",
       "     3  2  0 11  0  0  0\n",
       "     5  0  0  0  0  9  0\n",
       "     6  0  0  0  0  0  7\n",
       "     7  1 17  0  2  0  1"
      ]
     },
     "metadata": {},
     "output_type": "display_data"
    }
   ],
   "source": [
    "cmTrain"
   ]
  },
  {
   "cell_type": "code",
   "execution_count": 25,
   "id": "1299fcfb",
   "metadata": {},
   "outputs": [
    {
     "data": {
      "text/plain": [
       "      Predicted\n",
       "Actual  1  2  3  6  7\n",
       "     1 15  3  1  0  0\n",
       "     2  4 15  0  1  1\n",
       "     3  1  0  3  0  0\n",
       "     5  0  2  0  2  0\n",
       "     6  0  0  0  0  2\n",
       "     7  1  6  0  1  0"
      ]
     },
     "metadata": {},
     "output_type": "display_data"
    }
   ],
   "source": [
    "cmTest"
   ]
  },
  {
   "cell_type": "code",
   "execution_count": null,
   "id": "aa4f214f",
   "metadata": {},
   "outputs": [],
   "source": []
  }
 ],
 "metadata": {
  "kernelspec": {
   "display_name": "R",
   "language": "R",
   "name": "ir"
  },
  "language_info": {
   "codemirror_mode": "r",
   "file_extension": ".r",
   "mimetype": "text/x-r-source",
   "name": "R",
   "pygments_lexer": "r",
   "version": "3.6.1"
  }
 },
 "nbformat": 4,
 "nbformat_minor": 5
}
